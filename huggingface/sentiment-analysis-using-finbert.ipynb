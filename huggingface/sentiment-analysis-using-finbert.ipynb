{
 "cells": [
  {
   "cell_type": "markdown",
   "id": "d50185b9",
   "metadata": {},
   "source": [
    "For explanation refer to: https://github.com/jamescalam/transformers/blob/main/course/language_classification/02_sentiment_with_transformers.ipynb"
   ]
  },
  {
   "cell_type": "code",
   "execution_count": 5,
   "id": "f372c67e",
   "metadata": {},
   "outputs": [],
   "source": [
    "model = 'ProsusAI/finbert' #taken from https://huggingface.co/ProsusAI/finbert"
   ]
  },
  {
   "cell_type": "code",
   "execution_count": 12,
   "id": "5f54c2b0",
   "metadata": {},
   "outputs": [],
   "source": [
    "from transformers import BertForSequenceClassification, BertTokenizer\n",
    "import torch.nn.functional as F\n",
    "# initialize the tokenizer for BERT models\n",
    "tokenizer = BertTokenizer.from_pretrained('ProsusAI/finbert')\n",
    "# initialize the model for sequence classification\n",
    "model = BertForSequenceClassification.from_pretrained('ProsusAI/finbert')"
   ]
  },
  {
   "cell_type": "code",
   "execution_count": 7,
   "id": "0463eff0",
   "metadata": {},
   "outputs": [],
   "source": [
    "txt = \"\"\"Owing to Credit Suisse’s merger with UBS Group AG UBS, the combined entity will be subjected to higher “too big to fail” capital requirements. The regulatory requirement will be applicable to the combined entity after a two-year transitional period phasing in from early 2026, per the regulatory filing made on Jun 5.\n",
    "\n",
    "In addition, UBS Group AG received a temporary regulatory relief to use certain capital and liquidity rulings applied to Credit Suisse. Further, both the banks may temporarily continue to use their respective existing rules for the calculation of risk-weighted assets.\n",
    "\n",
    "Since the announcement of the merger, UBS has been in active discussions with the Swiss government to finalize the detailed terms and negotiate a definitive Loss Protection Agreement. The agreement is now expected to be finalized by Jun 7.\"\"\""
   ]
  },
  {
   "cell_type": "code",
   "execution_count": 8,
   "id": "4db8c594",
   "metadata": {},
   "outputs": [
    {
     "data": {
      "text/plain": [
       "'Owing to Credit Suisse’s merger with UBS Group AG UBS, the combined entity will be subjected to higher “too big to fail” capital requirements. The regulatory requirement will be applicable to the combined entity after a two-year transitional period phasing in from early 2026, per the regulatory filing made on Jun 5.\\n\\nIn addition, UBS Group AG received a temporary regulatory relief to use certain capital and liquidity rulings applied to Credit Suisse. Further, both the banks may temporarily continue to use their respective existing rules for the calculation of risk-weighted assets.\\n\\nSince the announcement of the merger, UBS has been in active discussions with the Swiss government to finalize the detailed terms and negotiate a definitive Loss Protection Agreement. The agreement is now expected to be finalized by Jun 7.'"
      ]
     },
     "execution_count": 8,
     "metadata": {},
     "output_type": "execute_result"
    }
   ],
   "source": [
    "txt"
   ]
  },
  {
   "cell_type": "code",
   "execution_count": 10,
   "id": "63e4585a",
   "metadata": {},
   "outputs": [],
   "source": [
    "#STEP1: Tokenize our input text\n",
    "tokens = tokenizer.encode_plus(txt, max_length=512, truncation=True, padding='max_length',\n",
    "                               add_special_tokens=True, return_tensors='pt')"
   ]
  },
  {
   "cell_type": "code",
   "execution_count": 13,
   "id": "fc9a171a",
   "metadata": {},
   "outputs": [
    {
     "data": {
      "text/plain": [
       "tensor([[0.2965, 0.0456, 0.6579]], grad_fn=<SoftmaxBackward0>)"
      ]
     },
     "execution_count": 13,
     "metadata": {},
     "output_type": "execute_result"
    }
   ],
   "source": [
    "#STEP2: Token IDs fed to model\n",
    "output = model(**tokens) #pass as keywords argument **kwargs"
   ]
  },
  {
   "cell_type": "code",
   "execution_count": 15,
   "id": "a39dbafa",
   "metadata": {},
   "outputs": [
    {
     "data": {
      "text/plain": [
       "tensor([[0.2965, 0.0456, 0.6579]], grad_fn=<SoftmaxBackward0>)"
      ]
     },
     "execution_count": 15,
     "metadata": {},
     "output_type": "execute_result"
    }
   ],
   "source": [
    "#STEP3: Model activations -> probabilities\n",
    "# apply softmax to the logits output tensor of our model (in index 0) across dimension -1\n",
    "probs = F.softmax(output[0], dim=-1)\n",
    "\n",
    "probs"
   ]
  },
  {
   "cell_type": "code",
   "execution_count": 14,
   "id": "c458b219",
   "metadata": {},
   "outputs": [
    {
     "data": {
      "text/plain": [
       "2"
      ]
     },
     "execution_count": 14,
     "metadata": {},
     "output_type": "execute_result"
    }
   ],
   "source": [
    "import torch\n",
    "\n",
    "pred = torch.argmax(probs)\n",
    "\n",
    "pred.item()"
   ]
  },
  {
   "cell_type": "code",
   "execution_count": null,
   "id": "3fb7c45b",
   "metadata": {},
   "outputs": [],
   "source": []
  }
 ],
 "metadata": {
  "kernelspec": {
   "display_name": "Python 3 (ipykernel)",
   "language": "python",
   "name": "python3"
  },
  "language_info": {
   "codemirror_mode": {
    "name": "ipython",
    "version": 3
   },
   "file_extension": ".py",
   "mimetype": "text/x-python",
   "name": "python",
   "nbconvert_exporter": "python",
   "pygments_lexer": "ipython3",
   "version": "3.10.9"
  }
 },
 "nbformat": 4,
 "nbformat_minor": 5
}
